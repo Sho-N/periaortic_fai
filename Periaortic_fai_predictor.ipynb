{
 "cells": [
  {
   "cell_type": "markdown",
   "metadata": {
    "id": "pey_jHY-VdwZ"
   },
   "source": [
    "# 準備\n",
    "実行前の準備を行います。"
   ]
  },
  {
   "cell_type": "markdown",
   "metadata": {
    "id": "qIXdindVUMO9"
   },
   "source": [
    "## 環境設定"
   ]
  },
  {
   "cell_type": "code",
   "execution_count": null,
   "metadata": {
    "colab": {
     "base_uri": "https://localhost:8080/"
    },
    "executionInfo": {
     "elapsed": 21653,
     "status": "ok",
     "timestamp": 1737205198293,
     "user": {
      "displayName": "Yusuke Adachi",
      "userId": "00457280386560997784"
     },
     "user_tz": 300
    },
    "id": "meLWEc9KUMPD",
    "outputId": "8061e4f8-b17a-4399-efd5-703da6d457c6"
   },
   "outputs": [],
   "source": [
    "# Google Drive に接続\n",
    "from google.colab import drive\n",
    "drive.mount('/content/drive')"
   ]
  },
  {
   "cell_type": "code",
   "execution_count": null,
   "metadata": {
    "executionInfo": {
     "elapsed": 3,
     "status": "ok",
     "timestamp": 1737205198293,
     "user": {
      "displayName": "Yusuke Adachi",
      "userId": "00457280386560997784"
     },
     "user_tz": 300
    },
    "id": "t2oPdOlGoapB"
   },
   "outputs": [],
   "source": [
    "# ワーキングディレクトリを設定\n",
    "full_path = '/content/drive/MyDrive/CT_Analyzer_asc_desc_aorta/'"
   ]
  },
  {
   "cell_type": "code",
   "execution_count": null,
   "metadata": {
    "colab": {
     "base_uri": "https://localhost:8080/"
    },
    "executionInfo": {
     "elapsed": 17856,
     "status": "ok",
     "timestamp": 1737205216147,
     "user": {
      "displayName": "Yusuke Adachi",
      "userId": "00457280386560997784"
     },
     "user_tz": 300
    },
    "id": "w4MOcsRBoSdb",
    "outputId": "703d6a82-1c54-4b9f-a8cb-6ca955005784"
   },
   "outputs": [],
   "source": [
    "# ライブラリインポート\n",
    "# 基本ライブラリ\n",
    "import os\n",
    "import glob\n",
    "from tqdm.notebook import tqdm\n",
    "import re\n",
    "import random\n",
    "import shutil\n",
    "import datetime\n",
    "\n",
    "# データ処理ライブラリ\n",
    "import numpy as np\n",
    "import pandas as pd\n",
    "import matplotlib.pyplot  as plt\n",
    "import cv2\n",
    "\n",
    "# CT画像処理ライブラリ\n",
    "!pip install pylibjpeg-libjpeg\n",
    "!pip install pylibjpeg\n",
    "!pip install pydicom\n",
    "import pydicom"
   ]
  },
  {
   "cell_type": "markdown",
   "metadata": {
    "id": "vM54r6jlKTII"
   },
   "source": [
    "## Detectron2インストール"
   ]
  },
  {
   "cell_type": "code",
   "execution_count": null,
   "metadata": {
    "colab": {
     "base_uri": "https://localhost:8080/"
    },
    "id": "3nefBxmoXsBn",
    "executionInfo": {
     "status": "ok",
     "timestamp": 1737205508883,
     "user_tz": 300,
     "elapsed": 292739,
     "user": {
      "displayName": "Yusuke Adachi",
      "userId": "00457280386560997784"
     }
    },
    "outputId": "0fe5dcfb-7fce-4e52-92f4-4aa44969e149"
   },
   "outputs": [],
   "source": [
    "# Detectron2インストール　240515改訂\n",
    "!python -m pip install pyyaml --upgrade\n",
    "!python -m pip install 'git+https://github.com/facebookresearch/detectron2.git'\n"
   ]
  },
  {
   "cell_type": "code",
   "execution_count": null,
   "metadata": {
    "colab": {
     "base_uri": "https://localhost:8080/"
    },
    "id": "Ho67zFR2KkUc",
    "executionInfo": {
     "status": "ok",
     "timestamp": 1737205508884,
     "user_tz": 300,
     "elapsed": 23,
     "user": {
      "displayName": "Yusuke Adachi",
      "userId": "00457280386560997784"
     }
    },
    "outputId": "0ff482f9-c5ea-416a-edcb-d6e0165299ba"
   },
   "outputs": [],
   "source": [
    "import torch, detectron2\n",
    "!nvcc --version\n",
    "TORCH_VERSION = \".\".join(torch.__version__.split(\".\")[:2])\n",
    "CUDA_VERSION = torch.__version__.split(\"+\")[-1]\n",
    "print(\"torch: \", TORCH_VERSION, \"; cuda: \", CUDA_VERSION)\n",
    "print(\"detectron2:\", detectron2.__version__)"
   ]
  },
  {
   "cell_type": "code",
   "execution_count": null,
   "metadata": {
    "id": "b-i4hmGYk1dL",
    "executionInfo": {
     "status": "ok",
     "timestamp": 1737205518801,
     "user_tz": 300,
     "elapsed": 9929,
     "user": {
      "displayName": "Yusuke Adachi",
      "userId": "00457280386560997784"
     }
    }
   },
   "outputs": [],
   "source": [
    "# Detectron2ライブラリのインポート\n",
    "from detectron2.utils.logger import setup_logger\n",
    "setup_logger()\n",
    "\n",
    "# import some common detectron2 utilities\n",
    "from detectron2 import model_zoo\n",
    "from detectron2.engine import DefaultPredictor\n",
    "from detectron2.config import get_cfg\n",
    "from detectron2.utils.visualizer import Visualizer, ColorMode"
   ]
  },
  {
   "cell_type": "markdown",
   "metadata": {
    "id": "Ocw8P_6bXjCA"
   },
   "source": [
    "# 関数定義\n",
    "処理に使用する関数を定義します。"
   ]
  },
  {
   "cell_type": "code",
   "execution_count": null,
   "metadata": {
    "id": "ffR1Y_In0nXj",
    "executionInfo": {
     "status": "ok",
     "timestamp": 1737205518803,
     "user_tz": 300,
     "elapsed": 11,
     "user": {
      "displayName": "Yusuke Adachi",
      "userId": "00457280386560997784"
     }
    }
   },
   "outputs": [],
   "source": [
    "# ソート関数\n",
    "def atoi(text):\n",
    "    return int(text) if text.isdigit() else text\n",
    "\n",
    "def natural_keys(text):\n",
    "    return [ atoi(c) for c in re.split(r'(\\d+)', text) ]"
   ]
  },
  {
   "cell_type": "code",
   "execution_count": null,
   "metadata": {
    "id": "g6gMZb5FXSV0",
    "executionInfo": {
     "status": "ok",
     "timestamp": 1737205518803,
     "user_tz": 300,
     "elapsed": 10,
     "user": {
      "displayName": "Yusuke Adachi",
      "userId": "00457280386560997784"
     }
    }
   },
   "outputs": [],
   "source": [
    "# メイン関数\n",
    "def run(file_path, output_path, debug=False):\n",
    "    ## Load\n",
    "    # DICOMデータの読み込み\n",
    "    dicom = pydicom.dcmread(file_path)\n",
    "    file_name = os.path.basename(file_path)\n",
    "\n",
    "    # DICOMデータから必要な値を取得\n",
    "    dp = dicom.pixel_array.copy()  # CT値を取得\n",
    "    intercept = dicom['RescaleIntercept'].value  # 変換式の切片を取得（変換しない場合は0を取得）\n",
    "    try:\n",
    "        outer_value = dicom['PixelPaddingValue'].value  # 円外のパディング箇所のCT値を取得\n",
    "    except:\n",
    "        outer_value = -2048  # 設定がない場合はデフォルト値を設定\n",
    "\n",
    "    # 取得した値を使って逆変換\n",
    "    dp = dp + intercept  # 変換式を使って逆変換\n",
    "    outer_value += intercept  # 円外のパディング箇所の逆変換後の値を計算\n",
    "    dp = np.where(dp==outer_value, -2048, dp)  # 該当箇所をデフォルト値に置換\n",
    "\n",
    "    # DICOM -> Image 変換\n",
    "    if debug:\n",
    "        save_path = f\"{file_name}.jpg\"\n",
    "    else:\n",
    "        save_path = f\"{org_path}{file_name}.jpg\"\n",
    "    cv2.imwrite(save_path, dp)\n",
    "\n",
    "    # Image を読み込み\n",
    "    im = cv2.imread(save_path)\n",
    "    h, w = im.shape[0], im.shape[1]\n",
    "    if debug:\n",
    "        plt.figure(figsize=(20,20))\n",
    "        plt.subplot(2,2,1)\n",
    "        plt.imshow(im)\n",
    "\n",
    "    ## Predict\n",
    "    # Image を渡して Predict\n",
    "    outputs = predictor(im)\n",
    "\n",
    "    # Save image\n",
    "    v = Visualizer(im[:, :, ::-1], scale=1.0)\n",
    "    v = v.draw_instance_predictions(outputs[\"instances\"].to(\"cpu\"))\n",
    "    if debug:\n",
    "        plt.subplot(2,2,2)\n",
    "        plt.imshow(v.get_image()[:, :, ::-1])\n",
    "    else:\n",
    "        cv2.imwrite(f\"{pred_path}{file_name}.jpg\", v.get_image()[:, :, ::-1])\n",
    "\n",
    "    ## Postprocess\n",
    "    # 予測結果\n",
    "    pred_masks = outputs['instances'].get('pred_masks')\n",
    "    if len(pred_masks) == 0:\n",
    "        if debug:\n",
    "            print(f\"[{file_name}] 予測結果が存在しません。\")\n",
    "        return [{'result': file_name}]  # 予測結果が存在しない場合終了\n",
    "\n",
    "    result_list = []\n",
    "    for i, pred_mask in enumerate(pred_masks):  # 予測結果の数だけ繰り返し\n",
    "        # 予測結果取得\n",
    "        pred_mask = pred_mask.cpu().numpy().astype(np.uint8)\n",
    "        score = outputs['instances'].get('scores').cpu().numpy()[i]\n",
    "        pred_classe = outputs['instances'].get('pred_classes').cpu().numpy()[i]\n",
    "\n",
    "        # 中心座標取得\n",
    "        index = np.where(pred_mask)\n",
    "        x_mean = round(np.sum(index[0]) / len(index[0]), 2)\n",
    "        y_mean = round(np.sum(index[1]) / len(index[1]), 2)\n",
    "\n",
    "        # 検出対象範囲内外チェック\n",
    "        if (x_mean < x_range[0]) | (x_range[1] < x_mean) | (y_mean < y_range[0]) | (y_range[1] < y_mean) :\n",
    "            # 範囲外の場合、繰り返しを抜ける\n",
    "            print(f\"[{file_name}][{i+1}] Out of range: ({x_mean}, {y_mean})\")\n",
    "            continue\n",
    "        else:\n",
    "            # 範囲内の場合、名前を変更して続行\n",
    "            if i == 0:\n",
    "                file_name_tmp = file_name\n",
    "            else:\n",
    "                file_name_tmp = f\"{file_name}_{i+1}\"\n",
    "\n",
    "        ## 外側領域の抽出\n",
    "        # ピクセル数の値変換\n",
    "        ps_value = dicom['PixelSpacing'].value\n",
    "        if debug:\n",
    "            print(f\"[{file_name_tmp}] Pixel Spacing：{ps_value}\")\n",
    "        if ps_value[0] != ps_value[1]:\n",
    "            print(f\"[Warning] Pixel Spacing の値を確認してください：{ps_value}\")\n",
    "        radius_trans = int(radius / ps_value[0])\n",
    "\n",
    "        # 予測結果ピクセルを中心とした円を描画\n",
    "        cir = np.zeros((h, w, 3))\n",
    "        for hight in range(0, h):\n",
    "            for width in range(0, w):\n",
    "                if pred_mask[width][hight] == 1:  # 予測対象マスクの場合\n",
    "                    # ブランク画像に描画\n",
    "                    cv2.circle(cir,\n",
    "                              center=(hight, width),\n",
    "                              radius=radius_trans,\n",
    "                              color=(0, 255, 0),\n",
    "                              thickness=-1,\n",
    "                              lineType=cv2.LINE_4,\n",
    "                              shift=0)\n",
    "\n",
    "        # 予測結果を引き算することでドーナツ状の外側領域のマスクのみを描画\n",
    "        cir_mask = (cir[:,:,1]).astype(np.uint8)  # G軸のみ抽出してint変換\n",
    "        target_mask = np.where((pred_mask==0)&(cir_mask!=0), 1, 0)  # 外側領域を抽出\n",
    "        if debug:\n",
    "            plt.subplot(2,2,3)\n",
    "            plt.imshow(target_mask)\n",
    "\n",
    "        # 元の画像に外側領域のマスクを描画\n",
    "        cir_on_img = im.copy()\n",
    "        cir_on_img[:,:,1] = np.where(target_mask == 1, 255, cir_on_img[:,:,1])  # 外側領域を抽出\n",
    "        if debug:\n",
    "            plt.imshow(cir_on_img)\n",
    "        else:\n",
    "            cv2.imwrite(f\"{mask_path}{file_name_tmp}.jpg\", cir_on_img)\n",
    "\n",
    "        ## 計算対象領域の抽出\n",
    "        # 計算対象領域のCT値のみ残す\n",
    "        target_CT = dp * target_mask\n",
    "        if debug:\n",
    "            print(f\"[{file_name_tmp}][{select_category[pred_classe]}] 選別前…　最小値：{target_CT.min()}  最大値：{target_CT.max()}  面積：{target_mask.sum()}\")\n",
    "\n",
    "        # 計算対象領域のCT値を選別\n",
    "        target_CT = np.where(target_CT > max_CT, 0, target_CT)  # 最大値以上を0に変換\n",
    "        target_CT = np.where(target_CT < min_CT, 0, target_CT)  # 最小値以下を0に変換\n",
    "        if debug:\n",
    "            print(f\"[{file_name_tmp}][{select_category[pred_classe]}] 選別後…　最小値：{target_CT.min()}  最大値：{target_CT.max()}  面積：{target_mask.sum()}\")\n",
    "\n",
    "        # 予測対象マスクに含まれるCT値だけを抽出\n",
    "        CTs = []\n",
    "        for hight in range(0, h):\n",
    "            for width in range(0, w):\n",
    "                if target_mask[width][hight] == 1:  # 予測対象マスクの場合\n",
    "                    if target_CT[width][hight] != 0:  # 判定CT値内のマスクの場合\n",
    "                        CTs.append(target_CT[width][hight])\n",
    "\n",
    "        # 計算対象領域のマスクを描画\n",
    "        calc_on_img = im.copy()\n",
    "        calc_on_img[:,:,1] = np.where(target_CT != 0, 255, calc_on_img[:,:,1])  # 計算対象領域を抽出\n",
    "        if debug:\n",
    "            print(f\"[{file_name_tmp}][{select_category[pred_classe]}] 統計量…　平均値：{np.mean(CTs)}  標準偏差：{np.std(CTs)}  面積：{len(CTs)}  合計値：{np.sum(CTs)}\")\n",
    "            plt.subplot(2,2,4)\n",
    "            plt.imshow(calc_on_img)\n",
    "            os.makedirs(f\"{full_path}output/debug/\", exist_ok=True)\n",
    "            plt.savefig(f\"{full_path}output/debug/{file_name_tmp}.jpg\")\n",
    "        else:\n",
    "            cv2.imwrite(f\"{res_path}{file_name_tmp}.jpg\", calc_on_img)\n",
    "\n",
    "        # 予測結果を辞書に追加\n",
    "        _dict = {}\n",
    "        _dict['result'] = file_name_tmp\n",
    "        _dict['class'] = select_category[pred_classe]\n",
    "        _dict['CTs'] = CTs\n",
    "        _dict['score'] = score\n",
    "        _dict['(x,y)'] = (x_mean, y_mean)\n",
    "\n",
    "        # 出力リストに結果を追加\n",
    "        result_list.append(_dict)\n",
    "\n",
    "    return result_list"
   ]
  },
  {
   "cell_type": "markdown",
   "metadata": {
    "id": "xTI6_PzjosTE"
   },
   "source": [
    "# 予測とCT値計算処理\n",
    "学習済みモデルを使用して、大動脈領域の予測を行います。<br>\n",
    "その後、大動脈領域の周辺のCT値を計算します。"
   ]
  },
  {
   "cell_type": "markdown",
   "metadata": {
    "id": "ZOHKSSHXcaHU"
   },
   "source": [
    "## 動作設定"
   ]
  },
  {
   "cell_type": "code",
   "execution_count": null,
   "metadata": {
    "id": "QVrbQI-RcftS",
    "executionInfo": {
     "status": "ok",
     "timestamp": 1737205518804,
     "user_tz": 300,
     "elapsed": 10,
     "user": {
      "displayName": "Yusuke Adachi",
      "userId": "00457280386560997784"
     }
    }
   },
   "outputs": [],
   "source": [
    "# 処理対象の入力/出力フォルダ設定\n",
    "input_root = f\"{full_path}input/\"\n",
    "output_root = f\"{full_path}output/\"\n",
    "\n",
    "# CT値検出設定\n",
    "threshold = 0.90      # 検出対象の確信度閾値\n",
    "x_range = [150, 400]  # 検出対象範囲：x軸\n",
    "y_range = [200, 400]  # 検出対象範囲：y軸\n",
    "radius = 5           # 大動脈領域周囲の距離（半径mm）\n",
    "min_CT = -190         # 判定最小CT値\n",
    "max_CT = -30          # 判定最大CT値"
   ]
  },
  {
   "cell_type": "code",
   "execution_count": null,
   "metadata": {
    "id": "fjuSgAtlcfSi",
    "executionInfo": {
     "status": "ok",
     "timestamp": 1737205518804,
     "user_tz": 300,
     "elapsed": 9,
     "user": {
      "displayName": "Yusuke Adachi",
      "userId": "00457280386560997784"
     }
    }
   },
   "outputs": [],
   "source": [
    "# 学習済みモデルの設定（学習時と同じ設定）\n",
    "suffix = \"20240513\"\n",
    "# suffix = \"YYYYMMDD\"\n",
    "learned_dir = \"COCO-InstanceSegmentation\"\n",
    "learned_yaml = \"mask_rcnn_X_101_32x8d_FPN_3x\"\n",
    "checkpoint = \"model_final.pth\"\n",
    "select_category = ['Ascending aorta', 'Descending aorta']"
   ]
  },
  {
   "cell_type": "markdown",
   "metadata": {
    "id": "U5xlebI8fcBZ"
   },
   "source": [
    "## 実行前準備"
   ]
  },
  {
   "cell_type": "code",
   "execution_count": null,
   "metadata": {
    "id": "o_Ua8bUBfepB",
    "colab": {
     "base_uri": "https://localhost:8080/"
    },
    "executionInfo": {
     "status": "ok",
     "timestamp": 1737205541910,
     "user_tz": 300,
     "elapsed": 23114,
     "user": {
      "displayName": "Yusuke Adachi",
      "userId": "00457280386560997784"
     }
    },
    "outputId": "592bb2d8-94e7-42c3-ebf9-d47a9760aeba"
   },
   "outputs": [],
   "source": [
    "# 設定値に従ってPredictorインスタンスを作成（学習済みモデルを読み込み）\n",
    "learned_model = f\"{learned_dir}/{learned_yaml}.yaml\"\n",
    "weights_dir = f\"{full_path}weights/{learned_yaml}_{suffix}\"\n",
    "\n",
    "cfg = get_cfg()\n",
    "cfg.merge_from_file(model_zoo.get_config_file(learned_model))\n",
    "cfg.MODEL.ROI_HEADS.SCORE_THRESH_TEST = threshold\n",
    "cfg.MODEL.WEIGHTS = os.path.join(weights_dir, checkpoint)\n",
    "cfg.MODEL.ROI_HEADS.NUM_CLASSES = len(select_category)\n",
    "predictor = DefaultPredictor(cfg)"
   ]
  },
  {
   "cell_type": "code",
   "execution_count": null,
   "metadata": {
    "colab": {
     "base_uri": "https://localhost:8080/"
    },
    "id": "9AVTVLB2hlYD",
    "executionInfo": {
     "status": "ok",
     "timestamp": 1737205542195,
     "user_tz": 300,
     "elapsed": 290,
     "user": {
      "displayName": "Yusuke Adachi",
      "userId": "00457280386560997784"
     }
    },
    "outputId": "a6c22c43-733c-4e3c-c653-b5cf80e33fe2"
   },
   "outputs": [],
   "source": [
    "# 入力フォルダ内の全フォルダを取得\n",
    "files = os.listdir(input_root)\n",
    "dirs = []\n",
    "for f in files:\n",
    "    path = os.path.join(input_root, f)\n",
    "    if os.path.isdir(path):\n",
    "        dirs.append(f)\n",
    "print(f\"対象フォルダ名：{dirs}\")"
   ]
  },
  {
   "cell_type": "markdown",
   "metadata": {
    "id": "43xQ71ZJgXb4"
   },
   "source": [
    "## テスト実行\n",
    "1ファイルだけランダムに実行します。"
   ]
  },
  {
   "cell_type": "code",
   "execution_count": null,
   "metadata": {
    "colab": {
     "base_uri": "https://localhost:8080/",
     "height": 451
    },
    "id": "6BHvYKSNP5gL",
    "executionInfo": {
     "status": "ok",
     "timestamp": 1737205548832,
     "user_tz": 300,
     "elapsed": 6641,
     "user": {
      "displayName": "Yusuke Adachi",
      "userId": "00457280386560997784"
     }
    },
    "outputId": "f42c7745-1d59-46a8-ac82-395152f5d36f"
   },
   "outputs": [],
   "source": [
    "# 最初のフォルダのファイルリストを取得\n",
    "input_path = f\"{input_root}/{dirs[0]}/\"\n",
    "output_path = f\"{output_root}/{dirs[0]}/\"\n",
    "files_path = glob.glob(f\"{input_path}*\")\n",
    "files_path = sorted(files_path, key=natural_keys)\n",
    "\n",
    "# テスト用に1つ取得\n",
    "test_file = random.choice(files_path)\n",
    "print(f\"テスト実行対象：{test_file}\")\n",
    "\n",
    "# テスト用にデバッグモードで実行\n",
    "list_results = run(test_file, output_path, debug=True)"
   ]
  },
  {
   "cell_type": "markdown",
   "metadata": {
    "id": "HCgTrQUMj9wE"
   },
   "source": [
    "## 本処理実行"
   ]
  },
  {
   "cell_type": "code",
   "execution_count": null,
   "metadata": {
    "colab": {
     "base_uri": "https://localhost:8080/",
     "height": 569,
     "referenced_widgets": [
      "526e176c63524d458b9fcc69416217c7",
      "21fdc2ec80344a4fa45aa49d3669d04b",
      "08cce63cc13945c2bd9bd7d940a70956",
      "19503997d2764256b7f84a8e66e90266",
      "8d5e0a472e1b413ebd1431b84b8f331e",
      "722290e896c947afbbd23276dfe1940d",
      "f39b5bba8495441b8b5b9840dbe0f7bd",
      "4196f8a829ea4192a8ecd71f2b3cb650",
      "5b4a00597e06410083d3ceb62f7b6060",
      "b9ccdc61d45a4f48bcbf1b355d7aae23",
      "a41d071ee76448c2a7273c97c4d6b3d5"
     ]
    },
    "id": "RClV41mpQZyb",
    "executionInfo": {
     "status": "ok",
     "timestamp": 1737205665132,
     "user_tz": 300,
     "elapsed": 116336,
     "user": {
      "displayName": "Yusuke Adachi",
      "userId": "00457280386560997784"
     }
    },
    "outputId": "b8493a23-3b94-4c10-a87a-01beed019265"
   },
   "outputs": [],
   "source": [
    "# 全てのフォルダに対して実行\n",
    "for target in dirs:\n",
    "    # パス設定\n",
    "    print(f\"[{target}] Start: {datetime.datetime.now()}\")\n",
    "    input_path = f\"{input_root}/{target}/\"\n",
    "    output_path = f\"{output_root}/{target}/\"\n",
    "\n",
    "    # ファイルリストを取得\n",
    "    files_path = glob.glob(f\"{input_path}*\")\n",
    "    files_path = sorted(files_path, key=natural_keys)\n",
    "\n",
    "    # 出力先フォルダを用意\n",
    "    if os.path.exists(output_path):\n",
    "        # 出力先が既に存在する場合は削除\n",
    "        print(f'Remove existed output folder...')\n",
    "        shutil.rmtree(output_path)\n",
    "\n",
    "    # フォルダ作成\n",
    "    org_path = f\"{output_path}original_images/\"\n",
    "    pred_path = f\"{output_path}predicted_images/\"\n",
    "    mask_path = f\"{output_path}masked_images/\"\n",
    "    res_path = f\"{output_path}result_images/\"\n",
    "    os.makedirs(org_path, exist_ok=True)\n",
    "    os.makedirs(pred_path, exist_ok=True)\n",
    "    os.makedirs(mask_path, exist_ok=True)\n",
    "    os.makedirs(res_path, exist_ok=True)\n",
    "\n",
    "    # ファイルリストの全てに対して実行\n",
    "    _list = []\n",
    "    for file_path in tqdm(files_path):\n",
    "        # 処理実行\n",
    "        list_results = run(file_path, output_path, debug=False)\n",
    "\n",
    "        for dict_result in list_results:\n",
    "            # CT値のデータを格納\n",
    "            try:\n",
    "                CT = dict_result['CTs']\n",
    "\n",
    "                dict_result[\"mean\"] = np.mean(CT)\n",
    "                dict_result[\"std\"] = np.std(CT)\n",
    "                dict_result[\"area\"] = len(CT)\n",
    "                dict_result[\"sum\"] = np.sum(CT)\n",
    "                _list.append(dict_result)\n",
    "\n",
    "            except Exception as e:\n",
    "                print(f\"[{dict_result['result']}] 予測結果が存在しません。\")\n",
    "\n",
    "    # CT値のデータを出力\n",
    "    df = pd.DataFrame(_list)\n",
    "    df.to_csv(f\"{output_path}{target}.csv\", index=None)\n",
    "    print(f\"[{target}] End: {datetime.datetime.now()}\\n\")"
   ]
  }
 ],
 "metadata": {
  "accelerator": "GPU",
  "colab": {
   "machine_shape": "hm",
   "provenance": [
    {
     "file_id": "1wk9-6HD4LA2-xX-y_OxLBM38X7o_yDWS",
     "timestamp": 1581602067231
    },
    {
     "file_id": "1CQmEXGa017n4dUn-ESdduon_B8aLcHVo",
     "timestamp": 1581520946621
    }
   ],
   "toc_visible": true
  },
  "kernelspec": {
   "display_name": "Python 3",
   "name": "python3"
  },
  "language_info": {
   "codemirror_mode": {
    "name": "ipython",
    "version": 3
   },
   "file_extension": ".py",
   "mimetype": "text/x-python",
   "name": "python",
   "nbconvert_exporter": "python",
   "pygments_lexer": "ipython3",
   "version": "3.7.3"
  },
  "toc": {
   "base_numbering": 1,
   "nav_menu": {},
   "number_sections": true,
   "sideBar": true,
   "skip_h1_title": false,
   "title_cell": "Table of Contents",
   "title_sidebar": "Contents",
   "toc_cell": false,
   "toc_position": {},
   "toc_section_display": true,
   "toc_window_display": true
  },
  "varInspector": {
   "cols": {
    "lenName": 16,
    "lenType": 16,
    "lenVar": 40
   },
   "kernels_config": {
    "python": {
     "delete_cmd_postfix": "",
     "delete_cmd_prefix": "del ",
     "library": "var_list.py",
     "varRefreshCmd": "print(var_dic_list())"
    },
    "r": {
     "delete_cmd_postfix": ") ",
     "delete_cmd_prefix": "rm(",
     "library": "var_list.r",
     "varRefreshCmd": "cat(var_dic_list()) "
    }
   },
   "types_to_exclude": [
    "module",
    "function",
    "builtin_function_or_method",
    "instance",
    "_Feature"
   ],
   "window_display": false
  },
  "widgets": {
   "application/vnd.jupyter.widget-state+json": {
    "526e176c63524d458b9fcc69416217c7": {
     "model_module": "@jupyter-widgets/controls",
     "model_name": "HBoxModel",
     "model_module_version": "1.5.0",
     "state": {
      "_dom_classes": [],
      "_model_module": "@jupyter-widgets/controls",
      "_model_module_version": "1.5.0",
      "_model_name": "HBoxModel",
      "_view_count": null,
      "_view_module": "@jupyter-widgets/controls",
      "_view_module_version": "1.5.0",
      "_view_name": "HBoxView",
      "box_style": "",
      "children": [
       "IPY_MODEL_21fdc2ec80344a4fa45aa49d3669d04b",
       "IPY_MODEL_08cce63cc13945c2bd9bd7d940a70956",
       "IPY_MODEL_19503997d2764256b7f84a8e66e90266"
      ],
      "layout": "IPY_MODEL_8d5e0a472e1b413ebd1431b84b8f331e"
     }
    },
    "21fdc2ec80344a4fa45aa49d3669d04b": {
     "model_module": "@jupyter-widgets/controls",
     "model_name": "HTMLModel",
     "model_module_version": "1.5.0",
     "state": {
      "_dom_classes": [],
      "_model_module": "@jupyter-widgets/controls",
      "_model_module_version": "1.5.0",
      "_model_name": "HTMLModel",
      "_view_count": null,
      "_view_module": "@jupyter-widgets/controls",
      "_view_module_version": "1.5.0",
      "_view_name": "HTMLView",
      "description": "",
      "description_tooltip": null,
      "layout": "IPY_MODEL_722290e896c947afbbd23276dfe1940d",
      "placeholder": "​",
      "style": "IPY_MODEL_f39b5bba8495441b8b5b9840dbe0f7bd",
      "value": "100%"
     }
    },
    "08cce63cc13945c2bd9bd7d940a70956": {
     "model_module": "@jupyter-widgets/controls",
     "model_name": "FloatProgressModel",
     "model_module_version": "1.5.0",
     "state": {
      "_dom_classes": [],
      "_model_module": "@jupyter-widgets/controls",
      "_model_module_version": "1.5.0",
      "_model_name": "FloatProgressModel",
      "_view_count": null,
      "_view_module": "@jupyter-widgets/controls",
      "_view_module_version": "1.5.0",
      "_view_name": "ProgressView",
      "bar_style": "success",
      "description": "",
      "description_tooltip": null,
      "layout": "IPY_MODEL_4196f8a829ea4192a8ecd71f2b3cb650",
      "max": 65,
      "min": 0,
      "orientation": "horizontal",
      "style": "IPY_MODEL_5b4a00597e06410083d3ceb62f7b6060",
      "value": 65
     }
    },
    "19503997d2764256b7f84a8e66e90266": {
     "model_module": "@jupyter-widgets/controls",
     "model_name": "HTMLModel",
     "model_module_version": "1.5.0",
     "state": {
      "_dom_classes": [],
      "_model_module": "@jupyter-widgets/controls",
      "_model_module_version": "1.5.0",
      "_model_name": "HTMLModel",
      "_view_count": null,
      "_view_module": "@jupyter-widgets/controls",
      "_view_module_version": "1.5.0",
      "_view_name": "HTMLView",
      "description": "",
      "description_tooltip": null,
      "layout": "IPY_MODEL_b9ccdc61d45a4f48bcbf1b355d7aae23",
      "placeholder": "​",
      "style": "IPY_MODEL_a41d071ee76448c2a7273c97c4d6b3d5",
      "value": " 65/65 [01:57&lt;00:00,  1.52s/it]"
     }
    },
    "8d5e0a472e1b413ebd1431b84b8f331e": {
     "model_module": "@jupyter-widgets/base",
     "model_name": "LayoutModel",
     "model_module_version": "1.2.0",
     "state": {
      "_model_module": "@jupyter-widgets/base",
      "_model_module_version": "1.2.0",
      "_model_name": "LayoutModel",
      "_view_count": null,
      "_view_module": "@jupyter-widgets/base",
      "_view_module_version": "1.2.0",
      "_view_name": "LayoutView",
      "align_content": null,
      "align_items": null,
      "align_self": null,
      "border": null,
      "bottom": null,
      "display": null,
      "flex": null,
      "flex_flow": null,
      "grid_area": null,
      "grid_auto_columns": null,
      "grid_auto_flow": null,
      "grid_auto_rows": null,
      "grid_column": null,
      "grid_gap": null,
      "grid_row": null,
      "grid_template_areas": null,
      "grid_template_columns": null,
      "grid_template_rows": null,
      "height": null,
      "justify_content": null,
      "justify_items": null,
      "left": null,
      "margin": null,
      "max_height": null,
      "max_width": null,
      "min_height": null,
      "min_width": null,
      "object_fit": null,
      "object_position": null,
      "order": null,
      "overflow": null,
      "overflow_x": null,
      "overflow_y": null,
      "padding": null,
      "right": null,
      "top": null,
      "visibility": null,
      "width": null
     }
    },
    "722290e896c947afbbd23276dfe1940d": {
     "model_module": "@jupyter-widgets/base",
     "model_name": "LayoutModel",
     "model_module_version": "1.2.0",
     "state": {
      "_model_module": "@jupyter-widgets/base",
      "_model_module_version": "1.2.0",
      "_model_name": "LayoutModel",
      "_view_count": null,
      "_view_module": "@jupyter-widgets/base",
      "_view_module_version": "1.2.0",
      "_view_name": "LayoutView",
      "align_content": null,
      "align_items": null,
      "align_self": null,
      "border": null,
      "bottom": null,
      "display": null,
      "flex": null,
      "flex_flow": null,
      "grid_area": null,
      "grid_auto_columns": null,
      "grid_auto_flow": null,
      "grid_auto_rows": null,
      "grid_column": null,
      "grid_gap": null,
      "grid_row": null,
      "grid_template_areas": null,
      "grid_template_columns": null,
      "grid_template_rows": null,
      "height": null,
      "justify_content": null,
      "justify_items": null,
      "left": null,
      "margin": null,
      "max_height": null,
      "max_width": null,
      "min_height": null,
      "min_width": null,
      "object_fit": null,
      "object_position": null,
      "order": null,
      "overflow": null,
      "overflow_x": null,
      "overflow_y": null,
      "padding": null,
      "right": null,
      "top": null,
      "visibility": null,
      "width": null
     }
    },
    "f39b5bba8495441b8b5b9840dbe0f7bd": {
     "model_module": "@jupyter-widgets/controls",
     "model_name": "DescriptionStyleModel",
     "model_module_version": "1.5.0",
     "state": {
      "_model_module": "@jupyter-widgets/controls",
      "_model_module_version": "1.5.0",
      "_model_name": "DescriptionStyleModel",
      "_view_count": null,
      "_view_module": "@jupyter-widgets/base",
      "_view_module_version": "1.2.0",
      "_view_name": "StyleView",
      "description_width": ""
     }
    },
    "4196f8a829ea4192a8ecd71f2b3cb650": {
     "model_module": "@jupyter-widgets/base",
     "model_name": "LayoutModel",
     "model_module_version": "1.2.0",
     "state": {
      "_model_module": "@jupyter-widgets/base",
      "_model_module_version": "1.2.0",
      "_model_name": "LayoutModel",
      "_view_count": null,
      "_view_module": "@jupyter-widgets/base",
      "_view_module_version": "1.2.0",
      "_view_name": "LayoutView",
      "align_content": null,
      "align_items": null,
      "align_self": null,
      "border": null,
      "bottom": null,
      "display": null,
      "flex": null,
      "flex_flow": null,
      "grid_area": null,
      "grid_auto_columns": null,
      "grid_auto_flow": null,
      "grid_auto_rows": null,
      "grid_column": null,
      "grid_gap": null,
      "grid_row": null,
      "grid_template_areas": null,
      "grid_template_columns": null,
      "grid_template_rows": null,
      "height": null,
      "justify_content": null,
      "justify_items": null,
      "left": null,
      "margin": null,
      "max_height": null,
      "max_width": null,
      "min_height": null,
      "min_width": null,
      "object_fit": null,
      "object_position": null,
      "order": null,
      "overflow": null,
      "overflow_x": null,
      "overflow_y": null,
      "padding": null,
      "right": null,
      "top": null,
      "visibility": null,
      "width": null
     }
    },
    "5b4a00597e06410083d3ceb62f7b6060": {
     "model_module": "@jupyter-widgets/controls",
     "model_name": "ProgressStyleModel",
     "model_module_version": "1.5.0",
     "state": {
      "_model_module": "@jupyter-widgets/controls",
      "_model_module_version": "1.5.0",
      "_model_name": "ProgressStyleModel",
      "_view_count": null,
      "_view_module": "@jupyter-widgets/base",
      "_view_module_version": "1.2.0",
      "_view_name": "StyleView",
      "bar_color": null,
      "description_width": ""
     }
    },
    "b9ccdc61d45a4f48bcbf1b355d7aae23": {
     "model_module": "@jupyter-widgets/base",
     "model_name": "LayoutModel",
     "model_module_version": "1.2.0",
     "state": {
      "_model_module": "@jupyter-widgets/base",
      "_model_module_version": "1.2.0",
      "_model_name": "LayoutModel",
      "_view_count": null,
      "_view_module": "@jupyter-widgets/base",
      "_view_module_version": "1.2.0",
      "_view_name": "LayoutView",
      "align_content": null,
      "align_items": null,
      "align_self": null,
      "border": null,
      "bottom": null,
      "display": null,
      "flex": null,
      "flex_flow": null,
      "grid_area": null,
      "grid_auto_columns": null,
      "grid_auto_flow": null,
      "grid_auto_rows": null,
      "grid_column": null,
      "grid_gap": null,
      "grid_row": null,
      "grid_template_areas": null,
      "grid_template_columns": null,
      "grid_template_rows": null,
      "height": null,
      "justify_content": null,
      "justify_items": null,
      "left": null,
      "margin": null,
      "max_height": null,
      "max_width": null,
      "min_height": null,
      "min_width": null,
      "object_fit": null,
      "object_position": null,
      "order": null,
      "overflow": null,
      "overflow_x": null,
      "overflow_y": null,
      "padding": null,
      "right": null,
      "top": null,
      "visibility": null,
      "width": null
     }
    },
    "a41d071ee76448c2a7273c97c4d6b3d5": {
     "model_module": "@jupyter-widgets/controls",
     "model_name": "DescriptionStyleModel",
     "model_module_version": "1.5.0",
     "state": {
      "_model_module": "@jupyter-widgets/controls",
      "_model_module_version": "1.5.0",
      "_model_name": "DescriptionStyleModel",
      "_view_count": null,
      "_view_module": "@jupyter-widgets/base",
      "_view_module_version": "1.2.0",
      "_view_name": "StyleView",
      "description_width": ""
     }
    }
   }
  }
 },
 "nbformat": 4,
 "nbformat_minor": 0
}
